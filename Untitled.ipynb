{
 "cells": [
  {
   "cell_type": "code",
   "execution_count": 91,
   "id": "6f715851",
   "metadata": {
    "scrolled": true
   },
   "outputs": [
    {
     "name": "stdout",
     "output_type": "stream",
     "text": [
      "1\n",
      "AAAAAAAAAAA\n",
      "1\n",
      "131621703842267135\n",
      "35\n",
      "3656158440062976\n",
      "3656158440062975\n",
      "35\n",
      "101559956668415\n",
      "101559956668415\n",
      "35\n",
      "2821109907455\n",
      "2821109907455\n",
      "35\n",
      "78364164095\n",
      "78364164095\n",
      "35\n",
      "2176782335\n",
      "2176782335\n",
      "35\n",
      "60466175\n",
      "60466175\n",
      "35\n",
      "1679615\n",
      "1679615\n",
      "35\n",
      "46655\n",
      "46655\n",
      "35\n",
      "1295\n",
      "1295\n",
      "35\n",
      "35\n",
      "35\n",
      "35\n",
      "0\n",
      "ZZZZZZZZZZZ"
     ]
    }
   ],
   "source": [
    "\n",
    "N = int(input())\n",
    "arr = [0]*36\n",
    "ans = 0\n",
    "\n",
    "for _ in range(0, N):\n",
    "    multi = 1\n",
    "    str = input()\n",
    "    for i in range(-1, -len(str) - 1, -1):\n",
    "        if(str[i] >= 'A' and str[i] <= 'Z'):\n",
    "            arr[ord(str[i])- ord('A') + 10] += multi * (ord('Z')- ord(str[i]))\n",
    "            ans +=  multi * (ord(str[i]) - ord('A') + 10)\n",
    "        else:\n",
    "            arr[int(str[i])] += multi * (35 - int(str[i]))\n",
    "            ans +=  multi * int(str[i])\n",
    "        multi *= 36\n",
    "K = int(input())\n",
    "for _ in range(0, K):\n",
    "    maxNum = 0\n",
    "    maxIndex = 0\n",
    "\n",
    "    for i in range(0, len(arr)):\n",
    "        if(maxNum < arr[i]):\n",
    "            maxNum = arr[i]\n",
    "            maxIndex = i\n",
    "    ans += maxNum\n",
    "    arr[maxIndex] = 0\n",
    "\n",
    "ansArr = []\n",
    "if (ans == 0):\n",
    "    print(0)\n",
    "else:\n",
    "    while(ans != 0):\n",
    "        ansArr.append(ans % 36)\n",
    "        ans = ans//36\n",
    "    for i in range(-1, -len(ansArr) -1, -1):\n",
    "        if (ansArr[i] < 10):\n",
    "            print(ansArr[i], end=\"\")\n",
    "        else:\n",
    "            c = chr(ord('A') + ansArr[i] - 10)\n",
    "            print(c,end=\"\")"
   ]
  },
  {
   "cell_type": "markdown",
   "id": "0e7e4b39",
   "metadata": {},
   "source": [
    " "
   ]
  }
 ],
 "metadata": {
  "kernelspec": {
   "display_name": "Python 3",
   "language": "python",
   "name": "python3"
  },
  "language_info": {
   "codemirror_mode": {
    "name": "ipython",
    "version": 3
   },
   "file_extension": ".py",
   "mimetype": "text/x-python",
   "name": "python",
   "nbconvert_exporter": "python",
   "pygments_lexer": "ipython3",
   "version": "3.8.8"
  }
 },
 "nbformat": 4,
 "nbformat_minor": 5
}
